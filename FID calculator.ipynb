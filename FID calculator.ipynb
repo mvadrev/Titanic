{
  "nbformat": 4,
  "nbformat_minor": 0,
  "metadata": {
    "colab": {
      "name": "FID.ipynb",
      "provenance": []
    },
    "kernelspec": {
      "name": "python3",
      "display_name": "Python 3"
    }
  },
  "cells": [
    {
      "cell_type": "code",
      "metadata": {
        "colab": {
          "base_uri": "https://localhost:8080/"
        },
        "id": "d8RNiNcI9U2z",
        "outputId": "a7e46dcd-33f1-4a12-c150-9978e47b8856"
      },
      "source": [
        "!pip install pytorch-fid"
      ],
      "execution_count": null,
      "outputs": [
        {
          "output_type": "stream",
          "text": [
            "Collecting pytorch-fid\n",
            "  Downloading https://files.pythonhosted.org/packages/93/54/49dc21a5ee774af0390813c3cf66af57af0a31ab22ba0c2ac02cdddeb755/pytorch-fid-0.2.0.tar.gz\n",
            "Requirement already satisfied: numpy in /usr/local/lib/python3.7/dist-packages (from pytorch-fid) (1.19.5)\n",
            "Requirement already satisfied: pillow in /usr/local/lib/python3.7/dist-packages (from pytorch-fid) (7.0.0)\n",
            "Requirement already satisfied: scipy in /usr/local/lib/python3.7/dist-packages (from pytorch-fid) (1.4.1)\n",
            "Requirement already satisfied: torch>=1.0.1 in /usr/local/lib/python3.7/dist-packages (from pytorch-fid) (1.7.1+cu101)\n",
            "Requirement already satisfied: torchvision>=0.2.2 in /usr/local/lib/python3.7/dist-packages (from pytorch-fid) (0.8.2+cu101)\n",
            "Requirement already satisfied: typing-extensions in /usr/local/lib/python3.7/dist-packages (from torch>=1.0.1->pytorch-fid) (3.7.4.3)\n",
            "Building wheels for collected packages: pytorch-fid\n",
            "  Building wheel for pytorch-fid (setup.py) ... \u001b[?25l\u001b[?25hdone\n",
            "  Created wheel for pytorch-fid: filename=pytorch_fid-0.2.0-cp37-none-any.whl size=10547 sha256=e424f926fef5d524912458e7c10f85e90dc77bdf8135095ebf34d58e105e2c4a\n",
            "  Stored in directory: /root/.cache/pip/wheels/72/36/3c/4f3fb256f62d24bef52636f66f21667bc21caa637ce92f0e53\n",
            "Successfully built pytorch-fid\n",
            "Installing collected packages: pytorch-fid\n",
            "Successfully installed pytorch-fid-0.2.0\n"
          ],
          "name": "stdout"
        }
      ]
    },
    {
      "cell_type": "code",
      "metadata": {
        "colab": {
          "base_uri": "https://localhost:8080/"
        },
        "id": "ZvYuJuNl93QJ",
        "outputId": "80a74268-dfcb-40db-979d-6835e4fccf21"
      },
      "source": [
        "%cd .."
      ],
      "execution_count": null,
      "outputs": [
        {
          "output_type": "stream",
          "text": [
            "/content\n"
          ],
          "name": "stdout"
        }
      ]
    },
    {
      "cell_type": "code",
      "metadata": {
        "colab": {
          "base_uri": "https://localhost:8080/"
        },
        "id": "R8N60DDn-CDU",
        "outputId": "28743865-7057-4dcf-f3cd-8ab1c5145bb3"
      },
      "source": [
        "!unzip fakes.zip"
      ],
      "execution_count": null,
      "outputs": [
        {
          "output_type": "stream",
          "text": [
            "Archive:  fakes.zip\n",
            " extracting: image_part_001.jpg      \n",
            " extracting: image_part_002.jpg      \n",
            " extracting: image_part_003.jpg      \n",
            " extracting: image_part_004.jpg      \n",
            " extracting: image_part_005.jpg      \n",
            " extracting: image_part_006.jpg      \n",
            " extracting: image_part_007.jpg      \n",
            " extracting: image_part_008.jpg      \n",
            " extracting: image_part_009.jpg      \n",
            " extracting: image_part_010.jpg      \n",
            " extracting: image_part_011.jpg      \n",
            " extracting: image_part_012.jpg      \n",
            " extracting: image_part_013.jpg      \n",
            " extracting: image_part_014.jpg      \n",
            " extracting: image_part_015.jpg      \n",
            " extracting: image_part_016.jpg      \n",
            " extracting: image_part_017.jpg      \n",
            " extracting: image_part_018.jpg      \n",
            " extracting: image_part_019.jpg      \n",
            " extracting: image_part_020.jpg      \n",
            " extracting: image_part_021.jpg      \n",
            " extracting: image_part_022.jpg      \n",
            " extracting: image_part_023.jpg      \n",
            " extracting: image_part_024.jpg      \n",
            " extracting: image_part_025.jpg      \n",
            " extracting: image_part_026.jpg      \n",
            " extracting: image_part_027.jpg      \n",
            " extracting: image_part_028.jpg      \n",
            " extracting: image_part_029.jpg      \n",
            " extracting: image_part_030.jpg      \n",
            " extracting: image_part_031.jpg      \n",
            " extracting: image_part_032.jpg      \n",
            " extracting: image_part_033.jpg      \n",
            " extracting: image_part_034.jpg      \n",
            " extracting: image_part_035.jpg      \n",
            " extracting: image_part_036.jpg      \n",
            " extracting: image_part_037.jpg      \n",
            " extracting: image_part_038.jpg      \n",
            " extracting: image_part_039.jpg      \n",
            " extracting: image_part_040.jpg      \n",
            " extracting: image_part_041.jpg      \n",
            " extracting: image_part_042.jpg      \n",
            " extracting: image_part_043.jpg      \n",
            " extracting: image_part_044.jpg      \n",
            " extracting: image_part_045.jpg      \n",
            " extracting: image_part_046.jpg      \n",
            " extracting: image_part_047.jpg      \n",
            " extracting: image_part_048.jpg      \n",
            " extracting: image_part_049.jpg      \n",
            " extracting: image_part_050.jpg      \n",
            " extracting: image_part_051.jpg      \n",
            " extracting: image_part_052.jpg      \n",
            " extracting: image_part_053.jpg      \n",
            " extracting: image_part_054.jpg      \n",
            " extracting: image_part_055.jpg      \n",
            " extracting: image_part_056.jpg      \n",
            " extracting: image_part_057.jpg      \n",
            " extracting: image_part_058.jpg      \n",
            " extracting: image_part_059.jpg      \n",
            " extracting: image_part_060.jpg      \n",
            " extracting: image_part_061.jpg      \n",
            " extracting: image_part_062.jpg      \n",
            " extracting: image_part_063.jpg      \n",
            " extracting: image_part_064.jpg      \n"
          ],
          "name": "stdout"
        }
      ]
    },
    {
      "cell_type": "code",
      "metadata": {
        "colab": {
          "base_uri": "https://localhost:8080/"
        },
        "id": "1_tZvYvsCSKC",
        "outputId": "28a5e39b-17e0-478c-c746-908e83f84061"
      },
      "source": [
        "!ls"
      ],
      "execution_count": null,
      "outputs": [
        {
          "output_type": "stream",
          "text": [
            "cut_images_archive_LQWcYcxTNSoILw.zip  generated  real\tsample_data\n"
          ],
          "name": "stdout"
        }
      ]
    },
    {
      "cell_type": "code",
      "metadata": {
        "colab": {
          "base_uri": "https://localhost:8080/"
        },
        "id": "GVtvdtrQFtNh",
        "outputId": "f66074dc-7677-414b-871a-9462f4060520"
      },
      "source": [
        "!python -m pytorch_fid real3/ fake3/"
      ],
      "execution_count": null,
      "outputs": [
        {
          "output_type": "stream",
          "text": [
            "Warning: batch size is bigger than the data size. Setting batch size to data size\n",
            "100% 1/1 [00:00<00:00,  2.17it/s]\n",
            "Warning: batch size is bigger than the data size. Setting batch size to data size\n",
            "100% 1/1 [00:00<00:00,  2.25it/s]\n",
            "FID:  132.23690577672704\n"
          ],
          "name": "stdout"
        }
      ]
    },
    {
      "cell_type": "code",
      "metadata": {
        "id": "BFyvNBPSLe5C"
      },
      "source": [
        "!cp real/* fake2/"
      ],
      "execution_count": null,
      "outputs": []
    }
  ]
}